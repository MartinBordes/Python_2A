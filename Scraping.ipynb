{
 "cells": [
  {
   "cell_type": "code",
   "execution_count": 1,
   "metadata": {},
   "outputs": [
    {
     "name": "stdout",
     "output_type": "stream",
     "text": [
      "Collecting git+https://github.com/JustAnotherArchivist/snscrape.git\n",
      "  Cloning https://github.com/JustAnotherArchivist/snscrape.git to c:\\users\\utilisateur\\appdata\\local\\temp\\pip-req-build-fv4_a5pi\n",
      "Requirement already satisfied: requests[socks] in c:\\users\\utilisateur\\anaconda\\lib\\site-packages (from snscrape==0.3.5.dev139+g35fb61a) (2.24.0)\n",
      "Note: you may need to restart the kernel to use updated packages.Requirement already satisfied: lxml in c:\\users\\utilisateur\\anaconda\\lib\\site-packages (from snscrape==0.3.5.dev139+g35fb61a) (4.5.2)\n",
      "Requirement already satisfied: beautifulsoup4 in c:\\users\\utilisateur\\anaconda\\lib\\site-packages (from snscrape==0.3.5.dev139+g35fb61a) (4.9.1)\n",
      "Requirement already satisfied: pytz in c:\\users\\utilisateur\\anaconda\\lib\\site-packages (from snscrape==0.3.5.dev139+g35fb61a) (2020.1)\n",
      "Requirement already satisfied: chardet<4,>=3.0.2 in c:\\users\\utilisateur\\anaconda\\lib\\site-packages (from requests[socks]->snscrape==0.3.5.dev139+g35fb61a) (3.0.4)\n",
      "Requirement already satisfied: certifi>=2017.4.17 in c:\\users\\utilisateur\\anaconda\\lib\\site-packages (from requests[socks]->snscrape==0.3.5.dev139+g35fb61a) (2020.6.20)\n",
      "Requirement already satisfied: idna<3,>=2.5 in c:\\users\\utilisateur\\anaconda\\lib\\site-packages (from requests[socks]->snscrape==0.3.5.dev139+g35fb61a) (2.10)\n",
      "Collecting urllib3!=1.25.0,!=1.25.1,<1.26,>=1.21.1\n",
      "  Downloading urllib3-1.25.11-py2.py3-none-any.whl (127 kB)\n",
      "Requirement already satisfied: PySocks!=1.5.7,>=1.5.6; extra == \"socks\" in c:\\users\\utilisateur\\anaconda\\lib\\site-packages (from requests[socks]->snscrape==0.3.5.dev139+g35fb61a) (1.7.1)\n",
      "Requirement already satisfied: soupsieve>1.2 in c:\\users\\utilisateur\\anaconda\\lib\\site-packages (from beautifulsoup4->snscrape==0.3.5.dev139+g35fb61a) (2.0.1)\n",
      "Building wheels for collected packages: snscrape\n",
      "  Building wheel for snscrape (setup.py): started\n"
     ]
    },
    {
     "name": "stderr",
     "output_type": "stream",
     "text": [
      "  Running command git clone -q https://github.com/JustAnotherArchivist/snscrape.git 'C:\\Users\\Utilisateur\\AppData\\Local\\Temp\\pip-req-build-fv4_a5pi'\n",
      "ERROR: conda 4.10.1 requires ruamel_yaml_conda>=0.11.14, which is not installed.\n",
      "ERROR: selenium 4.1.0 has requirement urllib3[secure]~=1.26, but you'll have urllib3 1.25.11 which is incompatible.\n"
     ]
    },
    {
     "name": "stdout",
     "output_type": "stream",
     "text": [
      "\n",
      "  Building wheel for snscrape (setup.py): finished with status 'done'\n",
      "  Created wheel for snscrape: filename=snscrape-0.3.5.dev139+g35fb61a-py3-none-any.whl size=52226 sha256=1d23c15a5573bdba135c2dddd3b74ff0a6296f89434327508c19a2322abd9fe5\n",
      "  Stored in directory: C:\\Users\\Utilisateur\\AppData\\Local\\Temp\\pip-ephem-wheel-cache-f7zuiuh9\\wheels\\92\\42\\87\\33fa9b18f7a75d02643a9ca3743339aec9be28c6796267c7d8\n",
      "Successfully built snscrape\n",
      "Installing collected packages: snscrape, urllib3\n",
      "  Attempting uninstall: urllib3\n",
      "    Found existing installation: urllib3 1.26.7\n",
      "    Uninstalling urllib3-1.26.7:\n",
      "      Successfully uninstalled urllib3-1.26.7\n",
      "Successfully installed snscrape-0.3.5.dev139+g35fb61a urllib3-1.25.11\n"
     ]
    }
   ],
   "source": [
    "pip install git+https://github.com/JustAnotherArchivist/snscrape.git"
   ]
  },
  {
   "cell_type": "code",
   "execution_count": 23,
   "metadata": {},
   "outputs": [],
   "source": [
    "import time\n",
    "import snscrape.modules.twitter as sntwitter\n",
    "import pandas as pd"
   ]
  },
  {
   "cell_type": "code",
   "execution_count": 35,
   "metadata": {},
   "outputs": [
    {
     "data": {
      "text/plain": [
       "27.86933732032776"
      ]
     },
     "execution_count": 35,
     "metadata": {},
     "output_type": "execute_result"
    }
   ],
   "source": [
    "start = time.time()\n",
    "\n",
    "# On crée de la liste qui contiendra les informations des tweets\n",
    "tweets_list = []\n",
    "\n",
    "# On utilise TwitterSearchScraper pour obtenir tous les tweets contenant un string choisi durant une période choisie\n",
    "for i,tweet in enumerate(sntwitter.TwitterSearchScraper('Dune since:2021-09-01 until:2021-09-02').get_items()):\n",
    "    if i>1000: # On scrape 1000 tweets\n",
    "        break\n",
    "    tweets_list.append([tweet.date, tweet.id, tweet.content, tweet.user.username, tweet.lang]) # On prend les informations intéressantes\n",
    "    \n",
    "# On crée un dataframe à partir de ce qu'on a scrapé\n",
    "tweets_df = pd.DataFrame(tweets_list, columns=['Datetime', 'Tweet Id', 'Text', 'Username', 'Language'])\n",
    "end=time.time()\n",
    "end-start"
   ]
  },
  {
   "cell_type": "code",
   "execution_count": 36,
   "metadata": {},
   "outputs": [
    {
     "data": {
      "text/html": [
       "<div>\n",
       "<style scoped>\n",
       "    .dataframe tbody tr th:only-of-type {\n",
       "        vertical-align: middle;\n",
       "    }\n",
       "\n",
       "    .dataframe tbody tr th {\n",
       "        vertical-align: top;\n",
       "    }\n",
       "\n",
       "    .dataframe thead th {\n",
       "        text-align: right;\n",
       "    }\n",
       "</style>\n",
       "<table border=\"1\" class=\"dataframe\">\n",
       "  <thead>\n",
       "    <tr style=\"text-align: right;\">\n",
       "      <th></th>\n",
       "      <th>Datetime</th>\n",
       "      <th>Tweet Id</th>\n",
       "      <th>Text</th>\n",
       "      <th>Username</th>\n",
       "      <th>Language</th>\n",
       "    </tr>\n",
       "  </thead>\n",
       "  <tbody>\n",
       "    <tr>\n",
       "      <th>0</th>\n",
       "      <td>2021-09-01 23:58:55+00:00</td>\n",
       "      <td>1433217839163379713</td>\n",
       "      <td>Sorria Gurney...sim, Josh Brolin já está na It...</td>\n",
       "      <td>dunabrasil</td>\n",
       "      <td>pt</td>\n",
       "    </tr>\n",
       "    <tr>\n",
       "      <th>1</th>\n",
       "      <td>2021-09-01 23:58:11+00:00</td>\n",
       "      <td>1433217652940410882</td>\n",
       "      <td>I reckon there's a musical connection with the...</td>\n",
       "      <td>allrite</td>\n",
       "      <td>en</td>\n",
       "    </tr>\n",
       "    <tr>\n",
       "      <th>2</th>\n",
       "      <td>2021-09-01 23:58:05+00:00</td>\n",
       "      <td>1433217629725024256</td>\n",
       "      <td>Oscar Isaac dans Dune 🤰🏻</td>\n",
       "      <td>superchaoticboy</td>\n",
       "      <td>und</td>\n",
       "    </tr>\n",
       "    <tr>\n",
       "      <th>3</th>\n",
       "      <td>2021-09-01 23:58:00+00:00</td>\n",
       "      <td>1433217610653515778</td>\n",
       "      <td>I have literally 4 different copies of David L...</td>\n",
       "      <td>afterglow2046</td>\n",
       "      <td>en</td>\n",
       "    </tr>\n",
       "    <tr>\n",
       "      <th>4</th>\n",
       "      <td>2021-09-01 23:56:38+00:00</td>\n",
       "      <td>1433217264526966785</td>\n",
       "      <td>I wonder how that foot fetish scene from the b...</td>\n",
       "      <td>SlimeCouple</td>\n",
       "      <td>en</td>\n",
       "    </tr>\n",
       "  </tbody>\n",
       "</table>\n",
       "</div>"
      ],
      "text/plain": [
       "                   Datetime             Tweet Id  \\\n",
       "0 2021-09-01 23:58:55+00:00  1433217839163379713   \n",
       "1 2021-09-01 23:58:11+00:00  1433217652940410882   \n",
       "2 2021-09-01 23:58:05+00:00  1433217629725024256   \n",
       "3 2021-09-01 23:58:00+00:00  1433217610653515778   \n",
       "4 2021-09-01 23:56:38+00:00  1433217264526966785   \n",
       "\n",
       "                                                Text         Username Language  \n",
       "0  Sorria Gurney...sim, Josh Brolin já está na It...       dunabrasil       pt  \n",
       "1  I reckon there's a musical connection with the...          allrite       en  \n",
       "2                           Oscar Isaac dans Dune 🤰🏻  superchaoticboy      und  \n",
       "3  I have literally 4 different copies of David L...    afterglow2046       en  \n",
       "4  I wonder how that foot fetish scene from the b...      SlimeCouple       en  "
      ]
     },
     "execution_count": 36,
     "metadata": {},
     "output_type": "execute_result"
    }
   ],
   "source": [
    "tweets_df.head()"
   ]
  },
  {
   "cell_type": "code",
   "execution_count": null,
   "metadata": {},
   "outputs": [],
   "source": []
  }
 ],
 "metadata": {
  "kernelspec": {
   "display_name": "Python 3",
   "language": "python",
   "name": "python3"
  },
  "language_info": {
   "codemirror_mode": {
    "name": "ipython",
    "version": 3
   },
   "file_extension": ".py",
   "mimetype": "text/x-python",
   "name": "python",
   "nbconvert_exporter": "python",
   "pygments_lexer": "ipython3",
   "version": "3.8.3"
  }
 },
 "nbformat": 4,
 "nbformat_minor": 4
}
