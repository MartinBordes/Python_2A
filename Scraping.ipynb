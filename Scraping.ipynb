{
 "cells": [
  {
   "cell_type": "code",
   "execution_count": 1,
   "metadata": {},
   "outputs": [
    {
     "name": "stdout",
     "output_type": "stream",
     "text": [
      "Collecting git+https://github.com/JustAnotherArchivist/snscrape.gitNote: you may need to restart the kernel to use updated packages.\n"
     ]
    },
    {
     "name": "stderr",
     "output_type": "stream",
     "text": [
      "  Running command git clone -q https://github.com/JustAnotherArchivist/snscrape.git 'C:\\Users\\Utilisateur\\AppData\\Local\\Temp\\pip-req-build-dp4ambkm'\n"
     ]
    },
    {
     "name": "stdout",
     "output_type": "stream",
     "text": [
      "\n",
      "  Cloning https://github.com/JustAnotherArchivist/snscrape.git to c:\\users\\utilisateur\\appdata\\local\\temp\\pip-req-build-dp4ambkm\n",
      "Requirement already satisfied (use --upgrade to upgrade): snscrape==0.3.5.dev139+g35fb61a from git+https://github.com/JustAnotherArchivist/snscrape.git in c:\\users\\utilisateur\\anaconda\\lib\\site-packages\n",
      "Requirement already satisfied: requests[socks] in c:\\users\\utilisateur\\anaconda\\lib\\site-packages (from snscrape==0.3.5.dev139+g35fb61a) (2.24.0)\n",
      "Requirement already satisfied: lxml in c:\\users\\utilisateur\\anaconda\\lib\\site-packages (from snscrape==0.3.5.dev139+g35fb61a) (4.5.2)\n",
      "Requirement already satisfied: beautifulsoup4 in c:\\users\\utilisateur\\anaconda\\lib\\site-packages (from snscrape==0.3.5.dev139+g35fb61a) (4.9.1)\n",
      "Requirement already satisfied: pytz in c:\\users\\utilisateur\\anaconda\\lib\\site-packages (from snscrape==0.3.5.dev139+g35fb61a) (2020.1)\n",
      "Requirement already satisfied: chardet<4,>=3.0.2 in c:\\users\\utilisateur\\anaconda\\lib\\site-packages (from requests[socks]->snscrape==0.3.5.dev139+g35fb61a) (3.0.4)\n",
      "Requirement already satisfied: idna<3,>=2.5 in c:\\users\\utilisateur\\anaconda\\lib\\site-packages (from requests[socks]->snscrape==0.3.5.dev139+g35fb61a) (2.10)\n",
      "Requirement already satisfied: urllib3!=1.25.0,!=1.25.1,<1.26,>=1.21.1 in c:\\users\\utilisateur\\anaconda\\lib\\site-packages (from requests[socks]->snscrape==0.3.5.dev139+g35fb61a) (1.25.11)\n",
      "Requirement already satisfied: certifi>=2017.4.17 in c:\\users\\utilisateur\\anaconda\\lib\\site-packages (from requests[socks]->snscrape==0.3.5.dev139+g35fb61a) (2020.6.20)\n",
      "Requirement already satisfied: PySocks!=1.5.7,>=1.5.6; extra == \"socks\" in c:\\users\\utilisateur\\anaconda\\lib\\site-packages (from requests[socks]->snscrape==0.3.5.dev139+g35fb61a) (1.7.1)\n",
      "Requirement already satisfied: soupsieve>1.2 in c:\\users\\utilisateur\\anaconda\\lib\\site-packages (from beautifulsoup4->snscrape==0.3.5.dev139+g35fb61a) (2.0.1)\n",
      "Building wheels for collected packages: snscrape\n",
      "  Building wheel for snscrape (setup.py): started\n",
      "  Building wheel for snscrape (setup.py): finished with status 'done'\n",
      "  Created wheel for snscrape: filename=snscrape-0.3.5.dev139+g35fb61a-py3-none-any.whl size=52226 sha256=e4227f93ff93970ccaa9dcede4f4343bb501fab728ed68aa984c1158b628b9d8\n",
      "  Stored in directory: C:\\Users\\Utilisateur\\AppData\\Local\\Temp\\pip-ephem-wheel-cache-8eevl8aw\\wheels\\92\\42\\87\\33fa9b18f7a75d02643a9ca3743339aec9be28c6796267c7d8\n",
      "Successfully built snscrape\n"
     ]
    }
   ],
   "source": [
    "pip install git+https://github.com/JustAnotherArchivist/snscrape.git"
   ]
  },
  {
   "cell_type": "code",
   "execution_count": 2,
   "metadata": {},
   "outputs": [],
   "source": [
    "import time\n",
    "import snscrape.modules.twitter as sntwitter\n",
    "import pandas as pd"
   ]
  },
  {
   "cell_type": "code",
   "execution_count": 19,
   "metadata": {},
   "outputs": [
    {
     "data": {
      "text/plain": [
       "28.64079236984253"
      ]
     },
     "execution_count": 19,
     "metadata": {},
     "output_type": "execute_result"
    }
   ],
   "source": [
    "start = time.time()\n",
    "\n",
    "# On crée la liste qui contiendra les informations des tweets\n",
    "tweets_list = []\n",
    "\n",
    "# On utilise TwitterSearchScraper pour obtenir tous les tweets contenant un string choisi durant une période choisie\n",
    "for i,tweet in enumerate(sntwitter.TwitterSearchScraper('dune since:2021-09-20 until:2021-09-21 lang:en').get_items()):\n",
    "    if i>1000: # On scrape 1000 tweets\n",
    "        break\n",
    "    tweets_list.append([tweet.date, tweet.id, tweet.content, tweet.user.username, tweet.lang]) # On prend les informations intéressantes\n",
    "    \n",
    "# On crée un dataframe à partir de ce qu'on a scrapé\n",
    "tweets_df = pd.DataFrame(tweets_list, columns=['Datetime', 'Tweet Id', 'Text', 'Username', 'Language'])\n",
    "end=time.time()\n",
    "end-start"
   ]
  },
  {
   "cell_type": "code",
   "execution_count": 20,
   "metadata": {},
   "outputs": [
    {
     "data": {
      "text/html": [
       "<div>\n",
       "<style scoped>\n",
       "    .dataframe tbody tr th:only-of-type {\n",
       "        vertical-align: middle;\n",
       "    }\n",
       "\n",
       "    .dataframe tbody tr th {\n",
       "        vertical-align: top;\n",
       "    }\n",
       "\n",
       "    .dataframe thead th {\n",
       "        text-align: right;\n",
       "    }\n",
       "</style>\n",
       "<table border=\"1\" class=\"dataframe\">\n",
       "  <thead>\n",
       "    <tr style=\"text-align: right;\">\n",
       "      <th></th>\n",
       "      <th>Datetime</th>\n",
       "      <th>Tweet Id</th>\n",
       "      <th>Text</th>\n",
       "      <th>Username</th>\n",
       "      <th>Language</th>\n",
       "    </tr>\n",
       "  </thead>\n",
       "  <tbody>\n",
       "    <tr>\n",
       "      <th>0</th>\n",
       "      <td>2021-09-20 23:59:54+00:00</td>\n",
       "      <td>1440103454702284801</td>\n",
       "      <td>Wow, Final Jeopardy! was brutal. Category was ...</td>\n",
       "      <td>DEvanAltman</td>\n",
       "      <td>en</td>\n",
       "    </tr>\n",
       "    <tr>\n",
       "      <th>1</th>\n",
       "      <td>2021-09-20 23:59:18+00:00</td>\n",
       "      <td>1440103304533446658</td>\n",
       "      <td>I both love Dune and think it sucks because it...</td>\n",
       "      <td>flying_rodent</td>\n",
       "      <td>en</td>\n",
       "    </tr>\n",
       "    <tr>\n",
       "      <th>2</th>\n",
       "      <td>2021-09-20 23:59:08+00:00</td>\n",
       "      <td>1440103264670806018</td>\n",
       "      <td>\"God created Arrakis to train the Faithful \"\\n...</td>\n",
       "      <td>_Joseph_Narvaez</td>\n",
       "      <td>en</td>\n",
       "    </tr>\n",
       "    <tr>\n",
       "      <th>3</th>\n",
       "      <td>2021-09-20 23:59:05+00:00</td>\n",
       "      <td>1440103250494201856</td>\n",
       "      <td>@Kittenfish817 Coulda been shoulda been, alas ...</td>\n",
       "      <td>reverendmalibu</td>\n",
       "      <td>en</td>\n",
       "    </tr>\n",
       "    <tr>\n",
       "      <th>4</th>\n",
       "      <td>2021-09-20 23:59:00+00:00</td>\n",
       "      <td>1440103231200403459</td>\n",
       "      <td>@MrWuggums No, we’ll have dunes full of booze!...</td>\n",
       "      <td>MittenheadSheri</td>\n",
       "      <td>en</td>\n",
       "    </tr>\n",
       "    <tr>\n",
       "      <th>...</th>\n",
       "      <td>...</td>\n",
       "      <td>...</td>\n",
       "      <td>...</td>\n",
       "      <td>...</td>\n",
       "      <td>...</td>\n",
       "    </tr>\n",
       "    <tr>\n",
       "      <th>996</th>\n",
       "      <td>2021-09-20 19:50:00+00:00</td>\n",
       "      <td>1440040566209716236</td>\n",
       "      <td>Dune was intense. I am in awe.</td>\n",
       "      <td>dogbikini</td>\n",
       "      <td>en</td>\n",
       "    </tr>\n",
       "    <tr>\n",
       "      <th>997</th>\n",
       "      <td>2021-09-20 19:49:48+00:00</td>\n",
       "      <td>1440040516494577664</td>\n",
       "      <td>@Aspire2Luminati @OkButStill I love that the d...</td>\n",
       "      <td>CorrosiveCummy</td>\n",
       "      <td>en</td>\n",
       "    </tr>\n",
       "    <tr>\n",
       "      <th>998</th>\n",
       "      <td>2021-09-20 19:49:35+00:00</td>\n",
       "      <td>1440040460282515466</td>\n",
       "      <td>Yeah #Dune https://t.co/ZJie5YAQh1</td>\n",
       "      <td>juanprogbass</td>\n",
       "      <td>en</td>\n",
       "    </tr>\n",
       "    <tr>\n",
       "      <th>999</th>\n",
       "      <td>2021-09-20 19:49:26+00:00</td>\n",
       "      <td>1440040425612464130</td>\n",
       "      <td>“ORNITHOPTER (commonly: ‘thopter): any aircraf...</td>\n",
       "      <td>WillsWaffleHut</td>\n",
       "      <td>en</td>\n",
       "    </tr>\n",
       "    <tr>\n",
       "      <th>1000</th>\n",
       "      <td>2021-09-20 19:49:07+00:00</td>\n",
       "      <td>1440040345308307456</td>\n",
       "      <td>@triefy I dont want to see any more trailers f...</td>\n",
       "      <td>dirtysturdy</td>\n",
       "      <td>en</td>\n",
       "    </tr>\n",
       "  </tbody>\n",
       "</table>\n",
       "<p>1001 rows × 5 columns</p>\n",
       "</div>"
      ],
      "text/plain": [
       "                      Datetime             Tweet Id  \\\n",
       "0    2021-09-20 23:59:54+00:00  1440103454702284801   \n",
       "1    2021-09-20 23:59:18+00:00  1440103304533446658   \n",
       "2    2021-09-20 23:59:08+00:00  1440103264670806018   \n",
       "3    2021-09-20 23:59:05+00:00  1440103250494201856   \n",
       "4    2021-09-20 23:59:00+00:00  1440103231200403459   \n",
       "...                        ...                  ...   \n",
       "996  2021-09-20 19:50:00+00:00  1440040566209716236   \n",
       "997  2021-09-20 19:49:48+00:00  1440040516494577664   \n",
       "998  2021-09-20 19:49:35+00:00  1440040460282515466   \n",
       "999  2021-09-20 19:49:26+00:00  1440040425612464130   \n",
       "1000 2021-09-20 19:49:07+00:00  1440040345308307456   \n",
       "\n",
       "                                                   Text         Username  \\\n",
       "0     Wow, Final Jeopardy! was brutal. Category was ...      DEvanAltman   \n",
       "1     I both love Dune and think it sucks because it...    flying_rodent   \n",
       "2     \"God created Arrakis to train the Faithful \"\\n...  _Joseph_Narvaez   \n",
       "3     @Kittenfish817 Coulda been shoulda been, alas ...   reverendmalibu   \n",
       "4     @MrWuggums No, we’ll have dunes full of booze!...  MittenheadSheri   \n",
       "...                                                 ...              ...   \n",
       "996                      Dune was intense. I am in awe.        dogbikini   \n",
       "997   @Aspire2Luminati @OkButStill I love that the d...   CorrosiveCummy   \n",
       "998                  Yeah #Dune https://t.co/ZJie5YAQh1     juanprogbass   \n",
       "999   “ORNITHOPTER (commonly: ‘thopter): any aircraf...   WillsWaffleHut   \n",
       "1000  @triefy I dont want to see any more trailers f...      dirtysturdy   \n",
       "\n",
       "     Language  \n",
       "0          en  \n",
       "1          en  \n",
       "2          en  \n",
       "3          en  \n",
       "4          en  \n",
       "...       ...  \n",
       "996        en  \n",
       "997        en  \n",
       "998        en  \n",
       "999        en  \n",
       "1000       en  \n",
       "\n",
       "[1001 rows x 5 columns]"
      ]
     },
     "execution_count": 20,
     "metadata": {},
     "output_type": "execute_result"
    }
   ],
   "source": [
    "tweets_df"
   ]
  },
  {
   "cell_type": "code",
   "execution_count": null,
   "metadata": {},
   "outputs": [],
   "source": []
  }
 ],
 "metadata": {
  "kernelspec": {
   "display_name": "Python 3",
   "language": "python",
   "name": "python3"
  },
  "language_info": {
   "codemirror_mode": {
    "name": "ipython",
    "version": 3
   },
   "file_extension": ".py",
   "mimetype": "text/x-python",
   "name": "python",
   "nbconvert_exporter": "python",
   "pygments_lexer": "ipython3",
   "version": "3.8.3"
  }
 },
 "nbformat": 4,
 "nbformat_minor": 4
}
