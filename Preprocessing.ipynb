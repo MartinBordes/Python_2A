{
 "cells": [
  {
   "cell_type": "code",
   "execution_count": 1,
   "metadata": {},
   "outputs": [
    {
     "name": "stderr",
     "output_type": "stream",
     "text": [
      "[nltk_data] Downloading package punkt to\n",
      "[nltk_data]     C:\\Users\\Utilisateur\\AppData\\Roaming\\nltk_data...\n",
      "[nltk_data]   Package punkt is already up-to-date!\n",
      "[nltk_data] Downloading package averaged_perceptron_tagger to\n",
      "[nltk_data]     C:\\Users\\Utilisateur\\AppData\\Roaming\\nltk_data...\n",
      "[nltk_data]   Package averaged_perceptron_tagger is already up-to-\n",
      "[nltk_data]       date!\n",
      "[nltk_data] Downloading package wordnet to\n",
      "[nltk_data]     C:\\Users\\Utilisateur\\AppData\\Roaming\\nltk_data...\n",
      "[nltk_data]   Package wordnet is already up-to-date!\n",
      "[nltk_data] Downloading package stopwords to\n",
      "[nltk_data]     C:\\Users\\Utilisateur\\AppData\\Roaming\\nltk_data...\n",
      "[nltk_data]   Package stopwords is already up-to-date!\n"
     ]
    },
    {
     "data": {
      "text/plain": [
       "True"
      ]
     },
     "execution_count": 1,
     "metadata": {},
     "output_type": "execute_result"
    }
   ],
   "source": [
    "import os\n",
    "import re\n",
    "import tempfile\n",
    "import time\n",
    "import zipfile\n",
    "\n",
    "import contractions\n",
    "import nltk\n",
    "import pandas as pd\n",
    "import requests\n",
    "from IPython import get_ipython\n",
    "from IPython.display import display\n",
    "from nltk.corpus import stopwords, wordnet\n",
    "from nltk.stem import WordNetLemmatizer\n",
    "from nltk.tokenize import word_tokenize\n",
    "\n",
    "pd.set_option('max_colwidth', 400)\n",
    "\n",
    "nltk.download('punkt')\n",
    "nltk.download('averaged_perceptron_tagger')\n",
    "nltk.download('wordnet')\n",
    "nltk.download('stopwords')"
   ]
  },
  {
   "cell_type": "code",
   "execution_count": 3,
   "metadata": {},
   "outputs": [],
   "source": [
    "def get_wordnet_pos(tag):\n",
    "    \"\"\"\n",
    "    Fonction qui associe une classe à chaque mot\n",
    "    \"\"\"\n",
    "    if tag.startswith('J'):\n",
    "        return wordnet.ADJ\n",
    "    elif tag.startswith('V'):\n",
    "        return wordnet.VERB\n",
    "    elif tag.startswith('N'):\n",
    "        return wordnet.NOUN\n",
    "    elif tag.startswith('R'):\n",
    "        return wordnet.ADV\n",
    "    else:\n",
    "        return wordnet.NOUN"
   ]
  },
  {
   "cell_type": "code",
   "execution_count": 4,
   "metadata": {},
   "outputs": [],
   "source": [
    "NEGATION_SET = {'no', 'not'}"
   ]
  },
  {
   "cell_type": "code",
   "execution_count": 5,
   "metadata": {},
   "outputs": [],
   "source": [
    "def negate_sequence(word_list):\n",
    "    if len(word_list) > 1:\n",
    "        if word_list[0] in NEGATION_SET:\n",
    "            return [f\"not_{word_list[1]}\"] + negate_sequence(word_list[2:])\n",
    "        else:\n",
    "            return [word_list[0]] + negate_sequence(word_list[1:])\n",
    "    else:\n",
    "        return word_list"
   ]
  },
  {
   "cell_type": "code",
   "execution_count": 12,
   "metadata": {},
   "outputs": [
    {
     "data": {
      "text/plain": [
       "['I', 'am', 'not_young', 'but', 'not_not', 'old', 'either']"
      ]
     },
     "execution_count": 12,
     "metadata": {},
     "output_type": "execute_result"
    }
   ],
   "source": [
    "word_list = [\"I\", \"am\", \"not\", \"young\", \"but\", \"not\", \"not\", \"old\", \"either\"]\n",
    "negate_sequence(word_list)"
   ]
  },
  {
   "cell_type": "code",
   "execution_count": 7,
   "metadata": {},
   "outputs": [],
   "source": [
    "def text_preprocessing(serie, stop_words, lemmatization, negation):\n",
    "    \"\"\"\n",
    "    Fonction qui réalise tout ce qu'on incorpore dans le preprocessing\n",
    "    Les paramètres booléens permettent de choisir si l'on utilise stop_words, lemmatization et negation\n",
    "    \"\"\"\n",
    "    \n",
    "    # passage en minuscule\n",
    "    serie = serie.map(lambda x: x.lower())   \n",
    "\n",
    "    # suppression des sauts de lignes et retours à la ligne\n",
    "    serie = serie.map(lambda x: re.sub(r'[\\r|\\n|\\r\\n]+', ' ', x))\n",
    "\n",
    "    # suppression des @tag\n",
    "    serie = serie.map(lambda x: re.sub(r'@[\\S]+', '', x))\n",
    "\n",
    "    # suppression de l'URL\n",
    "    serie = serie.map(lambda x: re.sub('https?://[\\S]+', '', x))\n",
    "    \n",
    "    # réécriture des contractions ( I'm -> i am)\n",
    "    serie = serie.map(lambda x: contractions.fix(x).lower())\n",
    "    \n",
    "    # suppression des hashtags et des nombres\n",
    "    serie = serie.map(lambda x: re.sub(\"[^a-zA-Z]\", \" \", x))\n",
    "\n",
    "    # tokenisation\n",
    "    serie = serie.map(word_tokenize)\n",
    "\n",
    "    if stop_words:        \n",
    "        # suppression des mots vides ( i like reading, so i read -> like reading read)\n",
    "        stop_words = set(stopwords.words('english')).difference(NEGATION_SET)\n",
    "        serie = serie.map(lambda x: [word for word in x if word not in stop_words])\n",
    "    \n",
    "    if lemmatization:\n",
    "        # lemmatisation, simplification des mots ( feet -> foot)    \n",
    "        serie = serie.map(nltk.tag.pos_tag)\n",
    "        serie = serie.map(lambda x: [(word, get_wordnet_pos(pos_tag)) for (word, pos_tag) in x])\n",
    "        wordnet_lemmatizer = WordNetLemmatizer()\n",
    "        serie = serie.map(lambda x: [wordnet_lemmatizer.lemmatize(word, tag) for (word, tag) in x])\n",
    "    \n",
    "    if negation:\n",
    "        serie = serie.map(lambda x: negate_sequence(x))\n",
    "\n",
    "    serie = serie.map(lambda x: ' '.join(word for word in x))\n",
    "\n",
    "    return serie"
   ]
  },
  {
   "cell_type": "code",
   "execution_count": 13,
   "metadata": {},
   "outputs": [
    {
     "name": "stdout",
     "output_type": "stream",
     "text": [
      "0    i do not this was aweful this movie should definitely not be seen by children\n",
      "dtype: object\n",
      "0    i do not_this was aweful this movie should definitely not_be seen by children\n",
      "dtype: object\n",
      "0    i do not this be aweful this movie should definitely not be see by child\n",
      "dtype: object\n",
      "0    i do not_this be aweful this movie should definitely not_be see by child\n",
      "dtype: object\n",
      "0    not aweful movie definitely not seen children\n",
      "dtype: object\n",
      "0    not_aweful movie definitely not_seen children\n",
      "dtype: object\n",
      "0    not aweful movie definitely not see child\n",
      "dtype: object\n",
      "0    not_aweful movie definitely not_see child\n",
      "dtype: object\n"
     ]
    }
   ],
   "source": [
    "text = \"i don't. this was aweful. this movie should definitely not be seen by children.\"\n",
    "for stop_words in [False, True]:\n",
    "    for lemmatization in [False, True]:\n",
    "        for negation in [False, True]:\n",
    "            print(text_preprocessing(pd.Series([text]), stop_words=stop_words, lemmatization=lemmatization, negation=negation))"
   ]
  },
  {
   "cell_type": "code",
   "execution_count": null,
   "metadata": {},
   "outputs": [],
   "source": []
  }
 ],
 "metadata": {
  "kernelspec": {
   "display_name": "Python 3",
   "language": "python",
   "name": "python3"
  },
  "language_info": {
   "codemirror_mode": {
    "name": "ipython",
    "version": 3
   },
   "file_extension": ".py",
   "mimetype": "text/x-python",
   "name": "python",
   "nbconvert_exporter": "python",
   "pygments_lexer": "ipython3",
   "version": "3.8.3"
  }
 },
 "nbformat": 4,
 "nbformat_minor": 4
}
