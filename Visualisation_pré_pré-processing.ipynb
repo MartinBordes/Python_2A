{
 "cells": [
  {
   "cell_type": "code",
   "execution_count": null,
   "id": "4f6f16c4-af8e-4866-9495-ac5de05c0873",
   "metadata": {},
   "outputs": [],
   "source": [
    "!pip install wordcloud\n",
    "from wordcloud import WordCloud\n",
    "import matplotlib.pyplot as plt\n",
    "import pandas as pd"
   ]
  },
  {
   "cell_type": "code",
   "execution_count": null,
   "id": "4a45d0c9-41b8-4e99-95bc-ca2f45b0f33c",
   "metadata": {},
   "outputs": [],
   "source": [
    "tweets_df_dune = tweets_df[tweets_df['Film'] == 'dune']\n",
    "tweets_df_space_jam = tweets_df[tweets_df['Film'] == 'space jam']"
   ]
  },
  {
   "cell_type": "code",
   "execution_count": null,
   "id": "e20787f7-df17-486d-a3d8-ed7b8bbbda27",
   "metadata": {},
   "outputs": [],
   "source": [
    "text = tweets_df_dune.Text.values\n",
    "wordcloud = WordCloud(\n",
    "    width = 3000,\n",
    "    height = 2000,\n",
    "    background_color = 'white',\n",
    "    stopwords = None).generate(str(text))\n",
    "fig = plt.figure(\n",
    "    figsize = (40, 30),\n",
    "    facecolor = 'k',\n",
    "    edgecolor = 'k')\n",
    "plt.imshow(wordcloud, interpolation = 'bilinear')\n",
    "plt.axis('off')\n",
    "plt.tight_layout(pad=0)\n",
    "plt.show()"
   ]
  },
  {
   "cell_type": "code",
   "execution_count": null,
   "id": "4a680f33-1d87-4428-8c21-e19e8e85b3c5",
   "metadata": {},
   "outputs": [],
   "source": [
    "text = tweets_df_space_jam.Text.values\n",
    "wordcloud = WordCloud(\n",
    "    width = 3000,\n",
    "    height = 2000,\n",
    "    background_color = 'white',\n",
    "    stopwords = None).generate(str(text))\n",
    "fig = plt.figure(\n",
    "    figsize = (40, 30),\n",
    "    facecolor = 'k',\n",
    "    edgecolor = 'k')\n",
    "plt.imshow(wordcloud, interpolation = 'bilinear')\n",
    "plt.axis('off')\n",
    "plt.tight_layout(pad=0)\n",
    "plt.show()"
   ]
  }
 ],
 "metadata": {
  "kernelspec": {
   "display_name": "Python 3 (ipykernel)",
   "language": "python",
   "name": "python3"
  },
  "language_info": {
   "codemirror_mode": {
    "name": "ipython",
    "version": 3
   },
   "file_extension": ".py",
   "mimetype": "text/x-python",
   "name": "python",
   "nbconvert_exporter": "python",
   "pygments_lexer": "ipython3",
   "version": "3.9.7"
  }
 },
 "nbformat": 4,
 "nbformat_minor": 5
}
